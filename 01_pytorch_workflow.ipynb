{
  "nbformat": 4,
  "nbformat_minor": 0,
  "metadata": {
    "colab": {
      "provenance": [],
      "toc_visible": true,
      "authorship_tag": "ABX9TyOx/mm4yy0ZY+KUxMeuvP/v",
      "include_colab_link": true
    },
    "kernelspec": {
      "name": "python3",
      "display_name": "Python 3"
    },
    "language_info": {
      "name": "python"
    }
  },
  "cells": [
    {
      "cell_type": "markdown",
      "metadata": {
        "id": "view-in-github",
        "colab_type": "text"
      },
      "source": [
        "<a href=\"https://colab.research.google.com/github/rehmanaly0051/Pytorch-IN-DeepLearning/blob/main/01_pytorch_workflow.ipynb\" target=\"_parent\"><img src=\"https://colab.research.google.com/assets/colab-badge.svg\" alt=\"Open In Colab\"/></a>"
      ]
    },
    {
      "cell_type": "markdown",
      "source": [
        "# PYTORCH workflow\n",
        "## https://www.learnpytorch.io/01_pytorch_workflow/"
      ],
      "metadata": {
        "id": "-fFnFZ29Cjbf"
      }
    },
    {
      "cell_type": "code",
      "execution_count": 1,
      "metadata": {
        "colab": {
          "base_uri": "https://localhost:8080/"
        },
        "id": "mVG9HZYoCVAs",
        "outputId": "6953aa43-048c-42ef-fb9e-ace6932a2f64"
      },
      "outputs": [
        {
          "output_type": "execute_result",
          "data": {
            "text/plain": [
              "{1: 'data(prepare and load)',\n",
              " 2: 'build model',\n",
              " 3: 'fitting the model to data(training)',\n",
              " 4: 'make predictions and evaluating the model',\n",
              " 5: 'savig and reloading the model',\n",
              " 6: 'putting it all together'}"
            ]
          },
          "metadata": {},
          "execution_count": 1
        }
      ],
      "source": [
        "covering = {1: 'data(prepare and load)',\n",
        "            2: 'build model',\n",
        "            3: 'fitting the model to data(training)',\n",
        "            4: 'make predictions and evaluating the model',\n",
        "            5: 'savig and reloading the model',\n",
        "            6: 'putting it all together'}\n",
        "covering"
      ]
    },
    {
      "cell_type": "code",
      "source": [
        "import torch\n",
        "from torch import nn # nn contain all of pytorch's building block for neural network\n",
        "import matplotlib.pyplot as plt\n",
        "\n",
        "torch.__version__"
      ],
      "metadata": {
        "colab": {
          "base_uri": "https://localhost:8080/",
          "height": 36
        },
        "id": "HAr3r0IGDQbP",
        "outputId": "747e292a-fb0f-41de-f75d-4552f64c75ba"
      },
      "execution_count": 28,
      "outputs": [
        {
          "output_type": "execute_result",
          "data": {
            "text/plain": [
              "'2.6.0+cu124'"
            ],
            "application/vnd.google.colaboratory.intrinsic+json": {
              "type": "string"
            }
          },
          "metadata": {},
          "execution_count": 28
        }
      ]
    },
    {
      "cell_type": "markdown",
      "source": [
        "### Data preparing and loading\n",
        "\n",
        "#### Excel spreadsheet\n",
        "#### Image of any kind\n",
        "#### video , Audio\n",
        "#### DNA, Text\n",
        "\n",
        "### Machine Learning is a game of two parts:\n",
        "#### 1. Get data into numerical representation\n",
        "#### 2. Build a model to learn patterns in that numerical representation\n",
        "\n",
        "### Lets creating a data using linear regression\n",
        "### Using linear regression formula to make  straight line"
      ],
      "metadata": {
        "id": "N4TQS2INDWxF"
      }
    },
    {
      "cell_type": "code",
      "source": [
        "# creating known parameters\n",
        "# Y = mX + c (m=slope, c=intercept, Y=dependent on X , X=independent)\n",
        "# And weight=m, bias=c\n",
        "\n",
        "weight = 0.7\n",
        "bias = 0.3\n",
        "\n",
        "# Capital letter (X) represent matrix or tensor\n",
        "# Small letter (y) represent a vector\n",
        "\n",
        "start = 0\n",
        "end = 1\n",
        "step = 0.02\n",
        "X = torch.arange(start, end, step).unsqueeze(dim=1) # Adding an extra dimension\n",
        "y = weight*X + bias\n",
        "X[:10], y[:10]"
      ],
      "metadata": {
        "colab": {
          "base_uri": "https://localhost:8080/"
        },
        "id": "x_xRmtY3_bJz",
        "outputId": "8a5feb9e-98d7-4273-d153-8098a23eca86"
      },
      "execution_count": 3,
      "outputs": [
        {
          "output_type": "execute_result",
          "data": {
            "text/plain": [
              "(tensor([[0.0000],\n",
              "         [0.0200],\n",
              "         [0.0400],\n",
              "         [0.0600],\n",
              "         [0.0800],\n",
              "         [0.1000],\n",
              "         [0.1200],\n",
              "         [0.1400],\n",
              "         [0.1600],\n",
              "         [0.1800]]),\n",
              " tensor([[0.3000],\n",
              "         [0.3140],\n",
              "         [0.3280],\n",
              "         [0.3420],\n",
              "         [0.3560],\n",
              "         [0.3700],\n",
              "         [0.3840],\n",
              "         [0.3980],\n",
              "         [0.4120],\n",
              "         [0.4260]]))"
            ]
          },
          "metadata": {},
          "execution_count": 3
        }
      ]
    },
    {
      "cell_type": "code",
      "source": [
        "len(X), len(y)"
      ],
      "metadata": {
        "colab": {
          "base_uri": "https://localhost:8080/"
        },
        "id": "kmmu7vnJ_m2D",
        "outputId": "547dedd7-a07b-48a1-eb98-004e2d65aafb"
      },
      "execution_count": 4,
      "outputs": [
        {
          "output_type": "execute_result",
          "data": {
            "text/plain": [
              "(50, 50)"
            ]
          },
          "metadata": {},
          "execution_count": 4
        }
      ]
    },
    {
      "cell_type": "markdown",
      "source": [
        "### Training AND Testing Split"
      ],
      "metadata": {
        "id": "zWVAnykFKjK4"
      }
    },
    {
      "cell_type": "code",
      "source": [
        "train_split = int(0.8 * len(X))\n",
        "X_train, y_train = X[:train_split], y[:train_split]\n",
        "X_test, y_test = X[train_split:], y[train_split:]\n",
        "\n",
        "len(X_train), len(y_train), len(X_test), len(y_test)"
      ],
      "metadata": {
        "colab": {
          "base_uri": "https://localhost:8080/"
        },
        "id": "_xQctQLaHay5",
        "outputId": "cd9c1ae4-0d21-45cc-af1d-3ffbe2558de4"
      },
      "execution_count": 5,
      "outputs": [
        {
          "output_type": "execute_result",
          "data": {
            "text/plain": [
              "(40, 40, 10, 10)"
            ]
          },
          "metadata": {},
          "execution_count": 5
        }
      ]
    },
    {
      "cell_type": "markdown",
      "source": [
        "## Visualizing data"
      ],
      "metadata": {
        "id": "oKedTEJYLO70"
      }
    },
    {
      "cell_type": "code",
      "source": [
        "def plot_predictions(train_data = X_train,\n",
        "                     train_labels = y_train,\n",
        "                     test_data = X_test,\n",
        "                     test_labels = y_test,\n",
        "                     predictions = None):\n",
        "  plt.figure(figsize=(10, 6))\n",
        "\n",
        "  plt.scatter(X_train, y_train, c='b', s=4, label = 'Training data')\n",
        "  plt.scatter(X_test, y_test, c='g', s=4, label = 'Testing data')\n",
        "\n",
        "  if predictions is not None:\n",
        "    plt.scatter(test_data, predictions, c='r', s=4, label = 'Predictions')\n",
        "\n",
        "  plt.legend()"
      ],
      "metadata": {
        "id": "no6g9znxK_vb"
      },
      "execution_count": 6,
      "outputs": []
    },
    {
      "cell_type": "code",
      "source": [
        "plot_predictions();"
      ],
      "metadata": {
        "colab": {
          "base_uri": "https://localhost:8080/",
          "height": 522
        },
        "id": "R__NyWPKLF-l",
        "outputId": "af1ae9d4-18af-40e5-9aef-be2ab5fc09e5"
      },
      "execution_count": 7,
      "outputs": [
        {
          "output_type": "display_data",
          "data": {
            "text/plain": [
              "<Figure size 1000x600 with 1 Axes>"
            ],
            "image/png": "[encoded data removed]"
          },
          "metadata": {}
        }
      ]
    },
    {
      "cell_type": "markdown",
      "source": [
        "## 2. Build Model\n",
        "\n",
        "## what our model does:\n",
        "1. Start with random values(weight and bias)\n",
        "2. Looking at training data and adjust values to better represent (or get closer to) the ideal values (the weight and bias values we used to create the data)\n",
        "\n",
        "## How does it do so?\n",
        "Through Two main algos:\n",
        "1. Gradient Descent (Slope)-> optimization algorithm used to minimize the loss function (error) of a model by updating model parameters (weights and biases).\n",
        "2. Backpropagation (It's an algorithm for training neural networks that uses gradient descent.\n",
        "\n",
        ")"
      ],
      "metadata": {
        "id": "q9NMoiIFP9Px"
      }
    },
    {
      "cell_type": "code",
      "source": [
        "from torch import nn\n",
        "class LinearRegressionModel(nn.Module): # <-almost everything in pytorch is inherit from this\n",
        "  def __init__(self):\n",
        "    super().__init__()\n",
        "    self.weights = nn.Parameter(torch.randn(1,\n",
        "                                            requires_grad=True,\n",
        "                                            dtype=torch.float))\n",
        "\n",
        "    self.bias = nn.Parameter(torch.randn(1,\n",
        "                                         requires_grad=True,\n",
        "                                         dtype=torch.float))\n",
        "\n",
        "  # Forward Method to define computation in the model\n",
        "  # This function takes input data, processes it through the network's layers, and returns the output.\n",
        "  def forward(self, x:torch.Tensor) -> torch.Tensor: # x is the input data\n",
        "    return self.weights * x + self.bias"
      ],
      "metadata": {
        "id": "n_GqYlEUOCvP"
      },
      "execution_count": 8,
      "outputs": []
    },
    {
      "cell_type": "markdown",
      "source": [
        "## Pytorch Model building essentials\n",
        "* torch.nn -> contains all the building blocks for computational graph(nn consider as CG)\n",
        "* torch.nn.Parameter -> what parameter our model try and learn\n",
        "* torch.nn.Module -> The base class for all NN modeuls, if you subclass it you should overwrite forward() method\n",
        "* torch.optim -> where the optimizer s in pytorch live, they will help with gradient descent"
      ],
      "metadata": {
        "id": "blIR2O6VkAdE"
      }
    },
    {
      "cell_type": "markdown",
      "source": [
        "## Checking the contents of our pytorch model\n",
        " * we can check it using .parameters\n"
      ],
      "metadata": {
        "id": "ZNWafWhjoJZB"
      }
    },
    {
      "cell_type": "code",
      "source": [
        "# creating a random seed (random numbers).\n",
        "torch.manual_seed(42)\n",
        "\n",
        "# creating as=n instance of our model\n",
        "\n",
        "model_0 = LinearRegressionModel()\n",
        "list(model_0.parameters())"
      ],
      "metadata": {
        "colab": {
          "base_uri": "https://localhost:8080/"
        },
        "id": "DUGyroiOk3t6",
        "outputId": "9c2523c0-a624-4ef8-85a8-f11d9f9f34da"
      },
      "execution_count": 9,
      "outputs": [
        {
          "output_type": "execute_result",
          "data": {
            "text/plain": [
              "[Parameter containing:\n",
              " tensor([0.3367], requires_grad=True),\n",
              " Parameter containing:\n",
              " tensor([0.1288], requires_grad=True)]"
            ]
          },
          "metadata": {},
          "execution_count": 9
        }
      ]
    },
    {
      "cell_type": "code",
      "source": [
        "# List named parameters\n",
        "model_0.state_dict()"
      ],
      "metadata": {
        "colab": {
          "base_uri": "https://localhost:8080/"
        },
        "id": "NYuf7JiOouOR",
        "outputId": "426e9f83-1ecd-4779-d065-3b026e33c508"
      },
      "execution_count": 10,
      "outputs": [
        {
          "output_type": "execute_result",
          "data": {
            "text/plain": [
              "OrderedDict([('weights', tensor([0.3367])), ('bias', tensor([0.1288]))])"
            ]
          },
          "metadata": {},
          "execution_count": 10
        }
      ]
    },
    {
      "cell_type": "markdown",
      "source": [
        "## Making predictions using `torch.inference.mode()`\n",
        " how well predcits y_test based on X_test\n",
        " when we pass datat through our model, it run it through the `forward()` method"
      ],
      "metadata": {
        "id": "NPu0-T7rqmtN"
      }
    },
    {
      "cell_type": "code",
      "source": [
        "X_test, y_test"
      ],
      "metadata": {
        "colab": {
          "base_uri": "https://localhost:8080/"
        },
        "id": "bSMD00N4pqK6",
        "outputId": "30a88461-8c2e-4f94-f99b-8e9490cb7f28"
      },
      "execution_count": 11,
      "outputs": [
        {
          "output_type": "execute_result",
          "data": {
            "text/plain": [
              "(tensor([[0.8000],\n",
              "         [0.8200],\n",
              "         [0.8400],\n",
              "         [0.8600],\n",
              "         [0.8800],\n",
              "         [0.9000],\n",
              "         [0.9200],\n",
              "         [0.9400],\n",
              "         [0.9600],\n",
              "         [0.9800]]),\n",
              " tensor([[0.8600],\n",
              "         [0.8740],\n",
              "         [0.8880],\n",
              "         [0.9020],\n",
              "         [0.9160],\n",
              "         [0.9300],\n",
              "         [0.9440],\n",
              "         [0.9580],\n",
              "         [0.9720],\n",
              "         [0.9860]]))"
            ]
          },
          "metadata": {},
          "execution_count": 11
        }
      ]
    },
    {
      "cell_type": "code",
      "source": [
        "with torch.inference_mode():\n",
        "  y_preds = model_0(X_test)\n",
        "y_preds"
      ],
      "metadata": {
        "colab": {
          "base_uri": "https://localhost:8080/"
        },
        "id": "EPJ0wvU2p70v",
        "outputId": "3bbe64d7-198d-49fd-fcaf-c980830523e8"
      },
      "execution_count": 30,
      "outputs": [
        {
          "output_type": "execute_result",
          "data": {
            "text/plain": [
              "tensor([[0.3982],\n",
              "        [0.4049],\n",
              "        [0.4116],\n",
              "        [0.4184],\n",
              "        [0.4251],\n",
              "        [0.4318],\n",
              "        [0.4386],\n",
              "        [0.4453],\n",
              "        [0.4520],\n",
              "        [0.4588]])"
            ]
          },
          "metadata": {},
          "execution_count": 30
        }
      ]
    },
    {
      "cell_type": "code",
      "source": [
        "plot_predictions(predictions=y_preds)"
      ],
      "metadata": {
        "colab": {
          "base_uri": "https://localhost:8080/",
          "height": 522
        },
        "id": "rIZAo-5krL_x",
        "outputId": "259d44c0-3e7f-4e85-fbcf-926278468b24"
      },
      "execution_count": 13,
      "outputs": [
        {
          "output_type": "display_data",
          "data": {
            "text/plain": [
              "<Figure size 1000x600 with 1 Axes>"
            ],
            "image/png": "[encoded data removed]"
          },
          "metadata": {}
        }
      ]
    },
    {
      "cell_type": "markdown",
      "source": [
        "## 3. Train Model\n",
        "The training purpose is for a model to move from some *unknown* parameters (may be random) to some\n",
        "*known* parameters.\n",
        "or in other words from a poor representation of data to a better representation of data.\n",
        "\n",
        "* One way to measure how poor or wrong your model predictions are is to use a loss function.\n",
        "\n",
        "* `loss function` also called `cost function` that uses a mean square error(MSE).\n",
        "\n",
        "Things we need to train:\n",
        "\n",
        "* **Loss Function:** A function to measure how wrong your model predictions are to the ideal outputs , lower is better.\n",
        "\n",
        "* **Optimizer:**  Takes into account the loss of a model and adjust the models parameters (e.hg weights and bias) **OR** Ann algorithm that adjusts a neural network's parameters (weights and biases) during training to minimize the loss function and improve the model's performance\n",
        "\n",
        "For pytorch we need:\n",
        "* A Training Loop\n",
        "* A Testing Loop\n"
      ],
      "metadata": {
        "id": "ZTol1QZxnE1B"
      }
    },
    {
      "cell_type": "code",
      "source": [
        "list(model_0.parameters())"
      ],
      "metadata": {
        "id": "XrfvATAOsYlz",
        "colab": {
          "base_uri": "https://localhost:8080/"
        },
        "outputId": "48603322-1d7a-4755-ce22-504831cbc413"
      },
      "execution_count": 16,
      "outputs": [
        {
          "output_type": "execute_result",
          "data": {
            "text/plain": [
              "[Parameter containing:\n",
              " tensor([0.3367], requires_grad=True),\n",
              " Parameter containing:\n",
              " tensor([0.1288], requires_grad=True)]"
            ]
          },
          "metadata": {},
          "execution_count": 16
        }
      ]
    },
    {
      "cell_type": "code",
      "source": [
        "# Set named parameters(A parameter is a value that the model sets itself)\n",
        "model_0.state_dict()"
      ],
      "metadata": {
        "colab": {
          "base_uri": "https://localhost:8080/"
        },
        "id": "l4SKezhcqXVI",
        "outputId": "5a2cbfb2-533a-4fd1-df90-245e59dd774b"
      },
      "execution_count": 20,
      "outputs": [
        {
          "output_type": "execute_result",
          "data": {
            "text/plain": [
              "OrderedDict([('weights', tensor([0.3367])), ('bias', tensor([0.1288]))])"
            ]
          },
          "metadata": {},
          "execution_count": 20
        }
      ]
    },
    {
      "cell_type": "markdown",
      "source": [
        "## Learning Rate (Hyperparameters)\n",
        "* The small of the lr the small of the chnge n the parameters\n",
        "* The large of the lr the large of the change in the parameters\n",
        "\n",
        "lr = 0.01 means if weights = 0.312 then the lr will only change the 0.-1- the 1s value ."
      ],
      "metadata": {
        "id": "4XefdaaKBgH2"
      }
    },
    {
      "cell_type": "code",
      "source": [
        "# Setup a loss function\n",
        "loss_fn = nn.L1Loss()\n",
        "\n",
        "# Setup a optimizer\n",
        "optimizer = torch.optim.SGD(params=model_0.parameters(),\n",
        "                            lr=0.01) # learning rate = possibly the most imp hyperparameters."
      ],
      "metadata": {
        "id": "Mjx7j2mHqftp"
      },
      "execution_count": 21,
      "outputs": []
    },
    {
      "cell_type": "markdown",
      "source": [
        "## Building a training loop and a testing loop in pytorch\n",
        "\n",
        "A couple of things we need in a training loop:\n",
        "1. loop throgh the data.\n",
        "2. forward pass (this involvs data moving through our model's `forward()`) also called forward propagation.\n",
        "3. calculate the loss (compare forward pass predictions to ground truth labels)\n",
        "4. Optimizer zero grad\n",
        "5. Loss backwards (**backpropagation**)- move backwards to the network to calculate the gradient of each of the parameter of our model wrt loss.\n",
        "6. optimizer step (**Gradient Descent**)- use the optimizer to adjust our models parameters to try and improve the loss."
      ],
      "metadata": {
        "id": "ZWCZHjmDCciH"
      }
    },
    {
      "cell_type": "code",
      "source": [
        "# All are doing same thing but there is differences.\n",
        "\n",
        "# list(model_0.parameters())\n",
        "# list(model_0.eval().parameters())\n",
        "with torch.inference_mode():\n",
        "  a = list(model_0.parameters())\n",
        "a"
      ],
      "metadata": {
        "colab": {
          "base_uri": "https://localhost:8080/"
        },
        "id": "II2svd0VFcJk",
        "outputId": "7dd06b9a-2406-464d-cd9f-acaa7f2f1d6e"
      },
      "execution_count": 27,
      "outputs": [
        {
          "output_type": "execute_result",
          "data": {
            "text/plain": [
              "[Parameter containing:\n",
              " tensor([0.3367], requires_grad=True),\n",
              " Parameter containing:\n",
              " tensor([0.1288], requires_grad=True)]"
            ]
          },
          "metadata": {},
          "execution_count": 27
        }
      ]
    },
    {
      "cell_type": "code",
      "source": [
        "# An epoch is one loop through the data..\n",
        "epochs = 1\n",
        "\n",
        "### Training\n",
        "# 1. Loop through the data\n",
        "for epoch in range(epochs):\n",
        "  # set the model to training mood.\n",
        "  model_0.train() # train() sets all parameters that require gradients to require gradients.\n",
        "\n",
        "  # 2. Forward Pass\n",
        "  y_pred = model_0(X_train)\n",
        "\n",
        "  # 3. Calculate the loss\n",
        "  loss = loss_fn(y_pred, y_train)\n",
        "\n",
        "  # 4. Optimizer zero grad\n",
        "  optimizer.zero_grad()\n",
        "\n",
        "  # 5. Loss backwards\n",
        "  loss.backward()\n",
        "\n",
        "  # 6. Optimizer step (Perform Gradient Descent)\n",
        "  optimizer.step()\n",
        "\n",
        "  model_0.eval() # turn off the gradient tracking.\n",
        "\n"
      ],
      "metadata": {
        "id": "iJEq0znb-Sk1"
      },
      "execution_count": null,
      "outputs": []
    }
  ]
}