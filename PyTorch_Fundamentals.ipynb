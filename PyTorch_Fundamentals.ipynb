{
  "nbformat": 4,
  "nbformat_minor": 0,
  "metadata": {
    "colab": {
      "provenance": [],
      "toc_visible": true,
      "authorship_tag": "ABX9TyMNdNafBrwjyAThrOlZfRLA",
      "include_colab_link": true
    },
    "kernelspec": {
      "name": "python3",
      "display_name": "Python 3"
    },
    "language_info": {
      "name": "python"
    }
  },
  "cells": [
    {
      "cell_type": "markdown",
      "metadata": {
        "id": "view-in-github",
        "colab_type": "text"
      },
      "source": [
        "<a href=\"https://colab.research.google.com/github/rehmanaly0051/Pytorch-IN-DeepLearning/blob/main/PyTorch_Fundamentals.ipynb\" target=\"_parent\"><img src=\"https://colab.research.google.com/assets/colab-badge.svg\" alt=\"Open In Colab\"/></a>"
      ]
    },
    {
      "cell_type": "code",
      "source": [
        "import torch\n",
        "import numpy as np\n",
        "import pandas as pd\n",
        "import matplotlib.pyplot as plt\n",
        "print(torch.__version__)"
      ],
      "metadata": {
        "id": "vhlB-dVxnOnV",
        "colab": {
          "base_uri": "https://localhost:8080/"
        },
        "outputId": "7f28464b-bff0-406e-f51d-208958a7787d"
      },
      "execution_count": 1,
      "outputs": [
        {
          "output_type": "stream",
          "name": "stdout",
          "text": [
            "2.6.0+cu124\n"
          ]
        }
      ]
    },
    {
      "cell_type": "markdown",
      "source": [
        "# ***Intro to Tensors***"
      ],
      "metadata": {
        "id": "Dok7ujVVcVQq"
      }
    },
    {
      "cell_type": "code",
      "source": [
        "# Scalar\n",
        "scalar = torch.tensor(10)\n",
        "scalar"
      ],
      "metadata": {
        "colab": {
          "base_uri": "https://localhost:8080/"
        },
        "id": "Z2JAJlMBcYDh",
        "outputId": "1e24ce6e-1d57-405f-8bcf-f9181894bcd9"
      },
      "execution_count": 2,
      "outputs": [
        {
          "output_type": "execute_result",
          "data": {
            "text/plain": [
              "tensor(10)"
            ]
          },
          "metadata": {},
          "execution_count": 2
        }
      ]
    },
    {
      "cell_type": "code",
      "source": [
        "#scalar.ndim Checking the dimension.\n",
        "scalar.item()  # Getting back a python int"
      ],
      "metadata": {
        "colab": {
          "base_uri": "https://localhost:8080/"
        },
        "id": "EbLWwbVWchE1",
        "outputId": "096e788f-513a-437d-8c1f-f71771ad94b5"
      },
      "execution_count": 3,
      "outputs": [
        {
          "output_type": "execute_result",
          "data": {
            "text/plain": [
              "10"
            ]
          },
          "metadata": {},
          "execution_count": 3
        }
      ]
    },
    {
      "cell_type": "code",
      "source": [
        "# Vectors .. Magnitude and Direction ..\n",
        "vector = torch.tensor([7,7])\n",
        "vector\n",
        "# vector.ndim"
      ],
      "metadata": {
        "colab": {
          "base_uri": "https://localhost:8080/"
        },
        "id": "oBFQAxOReQqY",
        "outputId": "67530ba3-871d-4555-f370-3a51d8b179eb"
      },
      "execution_count": 4,
      "outputs": [
        {
          "output_type": "execute_result",
          "data": {
            "text/plain": [
              "tensor([7, 7])"
            ]
          },
          "metadata": {},
          "execution_count": 4
        }
      ]
    },
    {
      "cell_type": "code",
      "source": [
        "vector.shape"
      ],
      "metadata": {
        "colab": {
          "base_uri": "https://localhost:8080/"
        },
        "id": "Cae1UMnyfSFG",
        "outputId": "4a47f5b9-6a79-4475-af6c-0b1bb8c7fcca"
      },
      "execution_count": 5,
      "outputs": [
        {
          "output_type": "execute_result",
          "data": {
            "text/plain": [
              "torch.Size([2])"
            ]
          },
          "metadata": {},
          "execution_count": 5
        }
      ]
    },
    {
      "cell_type": "code",
      "source": [
        "MATRIX = torch.tensor([[1,1],[2,2],[3,3],[4,4]])\n",
        "MATRIX\n",
        "# MATRIX.ndim"
      ],
      "metadata": {
        "colab": {
          "base_uri": "https://localhost:8080/"
        },
        "id": "C6Ys7Y-aelFV",
        "outputId": "eae4a8fa-0a09-40cc-89db-70a5f6d89247"
      },
      "execution_count": 6,
      "outputs": [
        {
          "output_type": "execute_result",
          "data": {
            "text/plain": [
              "tensor([[1, 1],\n",
              "        [2, 2],\n",
              "        [3, 3],\n",
              "        [4, 4]])"
            ]
          },
          "metadata": {},
          "execution_count": 6
        }
      ]
    },
    {
      "cell_type": "code",
      "source": [
        "TENSOR = torch.tensor([[[1, 2, 3],[4, 5, 6], [7, 8, 9]]])\n",
        "TENSOR"
      ],
      "metadata": {
        "colab": {
          "base_uri": "https://localhost:8080/"
        },
        "id": "QgtRlwyws7a8",
        "outputId": "424712d9-aee4-49d7-a164-8ed8682fd334"
      },
      "execution_count": 7,
      "outputs": [
        {
          "output_type": "execute_result",
          "data": {
            "text/plain": [
              "tensor([[[1, 2, 3],\n",
              "         [4, 5, 6],\n",
              "         [7, 8, 9]]])"
            ]
          },
          "metadata": {},
          "execution_count": 7
        }
      ]
    },
    {
      "cell_type": "code",
      "source": [
        "TENSOR.shape"
      ],
      "metadata": {
        "colab": {
          "base_uri": "https://localhost:8080/"
        },
        "id": "OXiixNtHthKv",
        "outputId": "9109690b-2391-48fa-83ba-465a0d2e4001"
      },
      "execution_count": 8,
      "outputs": [
        {
          "output_type": "execute_result",
          "data": {
            "text/plain": [
              "torch.Size([1, 3, 3])"
            ]
          },
          "metadata": {},
          "execution_count": 8
        }
      ]
    },
    {
      "cell_type": "code",
      "source": [
        "TENSOR.ndim"
      ],
      "metadata": {
        "colab": {
          "base_uri": "https://localhost:8080/"
        },
        "id": "NALoKByStkjm",
        "outputId": "bd5daf0f-b195-4ec0-b234-6b8a088fc2cc"
      },
      "execution_count": 9,
      "outputs": [
        {
          "output_type": "execute_result",
          "data": {
            "text/plain": [
              "3"
            ]
          },
          "metadata": {},
          "execution_count": 9
        }
      ]
    },
    {
      "cell_type": "markdown",
      "source": [
        "## Random Tensors\n",
        "### why random tensors\n",
        " Because many nn start with tensors full of random numbers adjust those random numbers to better represent the data."
      ],
      "metadata": {
        "id": "zRbbE3_4vfug"
      }
    },
    {
      "cell_type": "code",
      "source": [
        "random_tensor = torch.rand(3,3,14)\n",
        "random_tensor"
      ],
      "metadata": {
        "colab": {
          "base_uri": "https://localhost:8080/"
        },
        "id": "g2tYA6VgvyXx",
        "outputId": "2a6c5217-7af3-4b4b-f0ca-9266bf52f16c"
      },
      "execution_count": 10,
      "outputs": [
        {
          "output_type": "execute_result",
          "data": {
            "text/plain": [
              "tensor([[[2.1047e-01, 2.5717e-01, 9.6843e-01, 6.2748e-01, 9.9216e-01,\n",
              "          3.5487e-01, 8.2435e-01, 2.6346e-01, 2.9661e-02, 8.8964e-01,\n",
              "          5.0267e-01, 9.1084e-01, 7.2096e-01, 3.2245e-01],\n",
              "         [8.5639e-01, 3.4541e-01, 3.5827e-01, 1.2600e-01, 3.1478e-01,\n",
              "          7.5746e-01, 2.2381e-01, 8.0959e-01, 6.4897e-01, 6.2019e-01,\n",
              "          6.5683e-01, 4.3778e-01, 7.5816e-01, 6.5490e-01],\n",
              "         [1.7183e-01, 3.2983e-01, 1.1182e-01, 9.6425e-01, 7.2647e-01,\n",
              "          6.0365e-02, 6.3584e-01, 8.9617e-01, 2.2705e-01, 5.4589e-01,\n",
              "          6.7720e-02, 3.8098e-01, 9.8127e-01, 1.8286e-01]],\n",
              "\n",
              "        [[3.6154e-01, 3.4863e-01, 6.9140e-01, 5.1383e-01, 5.3451e-01,\n",
              "          8.9560e-01, 9.8724e-01, 8.8980e-01, 2.8586e-01, 5.4001e-01,\n",
              "          5.3210e-01, 1.0171e-01, 6.1106e-02, 3.6524e-01],\n",
              "         [9.5092e-01, 5.0448e-02, 7.3739e-01, 6.7992e-01, 7.3706e-01,\n",
              "          3.4900e-02, 6.1719e-01, 2.6228e-02, 7.1801e-01, 2.2613e-01,\n",
              "          3.2536e-01, 2.9312e-01, 6.4213e-01, 2.3117e-01],\n",
              "         [2.6032e-01, 7.2860e-01, 6.9333e-01, 5.2016e-01, 5.8947e-01,\n",
              "          6.0469e-01, 6.2624e-01, 7.6263e-01, 9.7331e-01, 8.4480e-02,\n",
              "          8.5813e-02, 9.9953e-01, 8.1119e-03, 5.5320e-01]],\n",
              "\n",
              "        [[8.8933e-01, 9.3989e-01, 2.4823e-01, 3.8974e-01, 9.9216e-01,\n",
              "          9.5560e-01, 7.5360e-02, 9.0287e-01, 2.2106e-02, 3.9213e-01,\n",
              "          4.2954e-01, 8.6992e-01, 7.0306e-01, 4.0468e-01],\n",
              "         [6.0720e-01, 8.5267e-01, 5.5990e-01, 3.2717e-02, 6.2717e-01,\n",
              "          1.4997e-01, 1.9851e-02, 9.2845e-01, 3.3662e-01, 8.1105e-01,\n",
              "          6.5917e-01, 2.5395e-01, 7.9485e-02, 2.1504e-01],\n",
              "         [3.5096e-02, 9.3292e-01, 3.0956e-01, 8.8799e-02, 7.8539e-01,\n",
              "          6.5503e-02, 6.4044e-01, 4.5738e-02, 1.4723e-01, 4.3980e-02,\n",
              "          8.7738e-04, 7.7871e-01, 5.9230e-01, 7.5971e-01]]])"
            ]
          },
          "metadata": {},
          "execution_count": 10
        }
      ]
    },
    {
      "cell_type": "code",
      "source": [
        "random_tensor.ndim"
      ],
      "metadata": {
        "colab": {
          "base_uri": "https://localhost:8080/"
        },
        "id": "_m9twYSLv85G",
        "outputId": "b615b607-a56d-4288-b96d-85452f4de7ae"
      },
      "execution_count": 11,
      "outputs": [
        {
          "output_type": "execute_result",
          "data": {
            "text/plain": [
              "3"
            ]
          },
          "metadata": {},
          "execution_count": 11
        }
      ]
    },
    {
      "cell_type": "code",
      "source": [
        "# Creating a random tensor with similar to an image tensor\n",
        "random_size_image_tensr = torch.rand(size=(3, 224,224)) # height, width, color chanals (RGB)\n",
        "random_size_image_tensr.shape, random_size_image_tensr.ndim"
      ],
      "metadata": {
        "colab": {
          "base_uri": "https://localhost:8080/"
        },
        "id": "SZMsOz-YwPWY",
        "outputId": "79564162-61b0-4ee4-d981-984b593cbb48"
      },
      "execution_count": 12,
      "outputs": [
        {
          "output_type": "execute_result",
          "data": {
            "text/plain": [
              "(torch.Size([3, 224, 224]), 3)"
            ]
          },
          "metadata": {},
          "execution_count": 12
        }
      ]
    },
    {
      "cell_type": "markdown",
      "source": [
        "## Zeros and Ones\n",
        "\n",
        "\n"
      ],
      "metadata": {
        "id": "28AnIXHPx9N8"
      }
    },
    {
      "cell_type": "code",
      "source": [
        "zeros = torch.zeros(size=(3,3))\n",
        "zeros"
      ],
      "metadata": {
        "colab": {
          "base_uri": "https://localhost:8080/"
        },
        "id": "xzvuCI-HxufR",
        "outputId": "81d1b94b-2198-41dd-a665-fa5676c18104"
      },
      "execution_count": 24,
      "outputs": [
        {
          "output_type": "execute_result",
          "data": {
            "text/plain": [
              "tensor([[0., 0., 0.],\n",
              "        [0., 0., 0.],\n",
              "        [0., 0., 0.]])"
            ]
          },
          "metadata": {},
          "execution_count": 24
        }
      ]
    },
    {
      "cell_type": "code",
      "source": [
        "ones = torch.ones(size=(3,3))\n",
        "ones"
      ],
      "metadata": {
        "colab": {
          "base_uri": "https://localhost:8080/"
        },
        "id": "03pfhdnnyGvQ",
        "outputId": "7dd380ce-8902-4e7f-abae-ceed16a5c12c"
      },
      "execution_count": 14,
      "outputs": [
        {
          "output_type": "execute_result",
          "data": {
            "text/plain": [
              "tensor([[1., 1., 1.],\n",
              "        [1., 1., 1.],\n",
              "        [1., 1., 1.]])"
            ]
          },
          "metadata": {},
          "execution_count": 14
        }
      ]
    },
    {
      "cell_type": "code",
      "source": [
        "random_tensor.dtype, ones.dtype, zeros.dtype"
      ],
      "metadata": {
        "colab": {
          "base_uri": "https://localhost:8080/"
        },
        "id": "eFXfN0LxyM3l",
        "outputId": "31ea4c1a-a830-4f4f-a525-b80f9c201460"
      },
      "execution_count": 15,
      "outputs": [
        {
          "output_type": "execute_result",
          "data": {
            "text/plain": [
              "(torch.float32, torch.float32, torch.float32)"
            ]
          },
          "metadata": {},
          "execution_count": 15
        }
      ]
    },
    {
      "cell_type": "markdown",
      "source": [
        "## Creating a range of tensors and tensor-like"
      ],
      "metadata": {
        "id": "d-d5szHtyjXU"
      }
    },
    {
      "cell_type": "code",
      "source": [
        "# creating  tensor range\n",
        "one_to_ten = torch.arange(start=1,end=11,step=1)\n",
        "one_to_ten"
      ],
      "metadata": {
        "colab": {
          "base_uri": "https://localhost:8080/"
        },
        "id": "jFEb4D9eyuSs",
        "outputId": "aa11c327-dd59-434b-dbce-d497da7fed3e"
      },
      "execution_count": 16,
      "outputs": [
        {
          "output_type": "execute_result",
          "data": {
            "text/plain": [
              "tensor([ 1,  2,  3,  4,  5,  6,  7,  8,  9, 10])"
            ]
          },
          "metadata": {},
          "execution_count": 16
        }
      ]
    },
    {
      "cell_type": "code",
      "source": [
        "# creating tensor like\n",
        "ten_zeros = torch.zeros_like(one_to_ten)\n",
        "ten_zeros"
      ],
      "metadata": {
        "colab": {
          "base_uri": "https://localhost:8080/"
        },
        "id": "XqxVEgQxywI_",
        "outputId": "dcb99d17-c6d6-4877-a09f-f027497fef9b"
      },
      "execution_count": 17,
      "outputs": [
        {
          "output_type": "execute_result",
          "data": {
            "text/plain": [
              "tensor([0, 0, 0, 0, 0, 0, 0, 0, 0, 0])"
            ]
          },
          "metadata": {},
          "execution_count": 17
        }
      ]
    },
    {
      "cell_type": "markdown",
      "source": [
        "## Tensor datatypes"
      ],
      "metadata": {
        "id": "yeASPZqM0Qvo"
      }
    },
    {
      "cell_type": "code",
      "source": [
        "# creating tensor datatypes\n",
        "# single precision is 32 but and half precision is 16 bit\n",
        "float_32_tensor  = torch.tensor([3.0,6.0,9.0],\n",
        "                                dtype = None, # What datatype is the tensor(e.g float 32 or float16)\n",
        "                                device = None, # what device is your tensor on\n",
        "                                requires_grad=False) # weather or not track gradients with this tensor operations\n",
        "float_32_tensor"
      ],
      "metadata": {
        "colab": {
          "base_uri": "https://localhost:8080/"
        },
        "id": "HygXCJWIztR7",
        "outputId": "cacb06dd-dc57-4a6a-9ed9-f7defc3091e2"
      },
      "execution_count": 18,
      "outputs": [
        {
          "output_type": "execute_result",
          "data": {
            "text/plain": [
              "tensor([3., 6., 9.])"
            ]
          },
          "metadata": {},
          "execution_count": 18
        }
      ]
    },
    {
      "cell_type": "code",
      "source": [
        "float_32_tensor.dtype"
      ],
      "metadata": {
        "colab": {
          "base_uri": "https://localhost:8080/"
        },
        "id": "kIzsS7bl0SSz",
        "outputId": "0ba83883-4d9d-480e-e41f-0eff5acc334d"
      },
      "execution_count": 19,
      "outputs": [
        {
          "output_type": "execute_result",
          "data": {
            "text/plain": [
              "torch.float32"
            ]
          },
          "metadata": {},
          "execution_count": 19
        }
      ]
    },
    {
      "cell_type": "code",
      "source": [
        "float_16_tensor = float_32_tensor.type(torch.float16)\n",
        "float_16_tensor"
      ],
      "metadata": {
        "colab": {
          "base_uri": "https://localhost:8080/"
        },
        "id": "M099h3ip2L3e",
        "outputId": "611b9b1b-b669-47c1-e00a-ad861f7267a9"
      },
      "execution_count": 20,
      "outputs": [
        {
          "output_type": "execute_result",
          "data": {
            "text/plain": [
              "tensor([3., 6., 9.], dtype=torch.float16)"
            ]
          },
          "metadata": {},
          "execution_count": 20
        }
      ]
    },
    {
      "cell_type": "code",
      "source": [
        "float_16_tensor * float_32_tensor # 3^2, 6^2, 9^2"
      ],
      "metadata": {
        "colab": {
          "base_uri": "https://localhost:8080/"
        },
        "id": "aof-Sqcv2U6t",
        "outputId": "16b53c24-cbb3-45a0-abf8-a116b9b7c8da"
      },
      "execution_count": 21,
      "outputs": [
        {
          "output_type": "execute_result",
          "data": {
            "text/plain": [
              "tensor([ 9., 36., 81.])"
            ]
          },
          "metadata": {},
          "execution_count": 21
        }
      ]
    },
    {
      "cell_type": "code",
      "source": [
        "int_32_tensor = torch.tensor([3, 6, 9], dtype=torch.int32)\n",
        "int_32_tensor"
      ],
      "metadata": {
        "id": "currA24F20Mh",
        "colab": {
          "base_uri": "https://localhost:8080/"
        },
        "outputId": "924d93c0-e8fc-407c-9bd9-a13f7b0725c0"
      },
      "execution_count": 28,
      "outputs": [
        {
          "output_type": "execute_result",
          "data": {
            "text/plain": [
              "tensor([3, 6, 9], dtype=torch.int32)"
            ]
          },
          "metadata": {},
          "execution_count": 28
        }
      ]
    },
    {
      "cell_type": "code",
      "source": [
        "float_32_tensor * int_32_tensor"
      ],
      "metadata": {
        "colab": {
          "base_uri": "https://localhost:8080/"
        },
        "id": "gJkf0rnZ0Nfi",
        "outputId": "1968303e-7dbd-4962-a52e-6aa77e18d06d"
      },
      "execution_count": 29,
      "outputs": [
        {
          "output_type": "execute_result",
          "data": {
            "text/plain": [
              "tensor([ 9., 36., 81.])"
            ]
          },
          "metadata": {},
          "execution_count": 29
        }
      ]
    },
    {
      "cell_type": "markdown",
      "source": [
        "## Getting Infor From Tensor (Tensor Attributes)\n",
        "\n",
        "###tensor not on right dtype, tensor.dtype\n",
        "###tensor not right shape, tensor.shape\n",
        "###tensor not on right device, tensor.device\n",
        "\n",
        "> Add blockquote\n",
        "\n"
      ],
      "metadata": {
        "id": "Er3WfVAQF-Km"
      }
    },
    {
      "cell_type": "code",
      "source": [
        "# creating a tensor\n",
        "some_tensor = torch.rand(3,4)\n",
        "some_tensor"
      ],
      "metadata": {
        "colab": {
          "base_uri": "https://localhost:8080/"
        },
        "id": "ky6rcd_wF6Y_",
        "outputId": "4cc4d97f-ee0f-4fd4-e0cf-2ee62ffac8ac"
      },
      "execution_count": 35,
      "outputs": [
        {
          "output_type": "execute_result",
          "data": {
            "text/plain": [
              "tensor([[0.0022, 0.5220, 0.0710, 0.1163],\n",
              "        [0.5598, 0.1958, 0.3581, 0.5367],\n",
              "        [0.3615, 0.2099, 0.9465, 0.1192]])"
            ]
          },
          "metadata": {},
          "execution_count": 35
        }
      ]
    },
    {
      "cell_type": "code",
      "source": [
        "# Finding out detail about tensor\n",
        "print(some_tensor)\n",
        "print(f\"Datatype of tensor: {some_tensor.dtype}\")\n",
        "print(f\"Shape of tensor: {some_tensor.shape}\")\n",
        "print(f\"Device tensor is on: {some_tensor.device}\")"
      ],
      "metadata": {
        "colab": {
          "base_uri": "https://localhost:8080/"
        },
        "id": "jLST7zjjGb6h",
        "outputId": "76e34114-d799-46bd-89eb-e5f6517ac410"
      },
      "execution_count": 36,
      "outputs": [
        {
          "output_type": "stream",
          "name": "stdout",
          "text": [
            "tensor([[0.0022, 0.5220, 0.0710, 0.1163],\n",
            "        [0.5598, 0.1958, 0.3581, 0.5367],\n",
            "        [0.3615, 0.2099, 0.9465, 0.1192]])\n",
            "Datatype of tensor: torch.float32\n",
            "Shape of tensor: torch.Size([3, 4])\n",
            "Device tensor is on: cpu\n"
          ]
        }
      ]
    },
    {
      "cell_type": "markdown",
      "source": [
        "## Minuplating Tensor (tensor Operations)\n",
        "\n",
        "### Addition\n",
        "### Subtraction\n",
        "### Multiplication (Element wise)\n",
        "### Division\n",
        "### Matrix Multiplication\n"
      ],
      "metadata": {
        "id": "WwcLEvLwJm2c"
      }
    },
    {
      "cell_type": "code",
      "source": [
        "# creating a tensor and add 10 on it\n",
        "tensor = torch.tensor([1, 2, 3])\n",
        "tensor + 10"
      ],
      "metadata": {
        "id": "EUY-gqo-GwkJ",
        "colab": {
          "base_uri": "https://localhost:8080/"
        },
        "outputId": "8c53bffd-636b-4b99-bd56-80847dfa8128"
      },
      "execution_count": 46,
      "outputs": [
        {
          "output_type": "execute_result",
          "data": {
            "text/plain": [
              "tensor([11, 12, 13])"
            ]
          },
          "metadata": {},
          "execution_count": 46
        }
      ]
    },
    {
      "cell_type": "code",
      "source": [
        "# Multiply tensor by 10\n",
        "tensor * 10"
      ],
      "metadata": {
        "colab": {
          "base_uri": "https://localhost:8080/"
        },
        "id": "eTVb7gbQKAuq",
        "outputId": "10852305-79d7-4e29-be32-9f735ea52462"
      },
      "execution_count": 47,
      "outputs": [
        {
          "output_type": "execute_result",
          "data": {
            "text/plain": [
              "tensor([10, 20, 30])"
            ]
          },
          "metadata": {},
          "execution_count": 47
        }
      ]
    },
    {
      "cell_type": "code",
      "source": [
        "# Substraction by 10\n",
        "tensor - 10"
      ],
      "metadata": {
        "colab": {
          "base_uri": "https://localhost:8080/"
        },
        "id": "66uDmSfaKKZb",
        "outputId": "2c77274e-1d7d-4320-98f7-c2b90450f865"
      },
      "execution_count": 48,
      "outputs": [
        {
          "output_type": "execute_result",
          "data": {
            "text/plain": [
              "tensor([-9, -8, -7])"
            ]
          },
          "metadata": {},
          "execution_count": 48
        }
      ]
    },
    {
      "cell_type": "code",
      "source": [
        "# pytorch in-built  functions\n",
        "torch.mul(tensor, 10)"
      ],
      "metadata": {
        "colab": {
          "base_uri": "https://localhost:8080/"
        },
        "id": "08unxxxnKT2n",
        "outputId": "1c8a32c4-b9d5-482c-a231-10e203304f64"
      },
      "execution_count": 49,
      "outputs": [
        {
          "output_type": "execute_result",
          "data": {
            "text/plain": [
              "tensor([10, 20, 30])"
            ]
          },
          "metadata": {},
          "execution_count": 49
        }
      ]
    },
    {
      "cell_type": "code",
      "source": [
        "torch.add(tensor, 10)"
      ],
      "metadata": {
        "colab": {
          "base_uri": "https://localhost:8080/"
        },
        "id": "aT4RWpgrKs63",
        "outputId": "a95c06ba-7e71-43de-a209-ae426ff4118b"
      },
      "execution_count": 50,
      "outputs": [
        {
          "output_type": "execute_result",
          "data": {
            "text/plain": [
              "tensor([11, 12, 13])"
            ]
          },
          "metadata": {},
          "execution_count": 50
        }
      ]
    },
    {
      "cell_type": "code",
      "source": [
        "torch.sub(tensor, 10)"
      ],
      "metadata": {
        "colab": {
          "base_uri": "https://localhost:8080/"
        },
        "id": "rJU5nnfAKxc-",
        "outputId": "b8266651-5906-4240-c964-79ef5e54d505"
      },
      "execution_count": 51,
      "outputs": [
        {
          "output_type": "execute_result",
          "data": {
            "text/plain": [
              "tensor([-9, -8, -7])"
            ]
          },
          "metadata": {},
          "execution_count": 51
        }
      ]
    },
    {
      "cell_type": "code",
      "source": [
        "torch.div(tensor, 10)"
      ],
      "metadata": {
        "colab": {
          "base_uri": "https://localhost:8080/"
        },
        "id": "k4-cCxVlK0FJ",
        "outputId": "c7ee1c44-3771-4985-ce08-74b0f56d556f"
      },
      "execution_count": 52,
      "outputs": [
        {
          "output_type": "execute_result",
          "data": {
            "text/plain": [
              "tensor([0.1000, 0.2000, 0.3000])"
            ]
          },
          "metadata": {},
          "execution_count": 52
        }
      ]
    },
    {
      "cell_type": "markdown",
      "source": [
        "## MAtrix multiplication\n",
        "### 2 ways\n",
        "### element wise mul.\n",
        "### Matrix mul.\n"
      ],
      "metadata": {
        "id": "KZUAuikbLmYB"
      }
    },
    {
      "cell_type": "code",
      "source": [
        "# ELement Wise Multipliacation\n",
        "print(tensor, '*', tensor)\n",
        "print(f'Equals: {tensor * tensor}')"
      ],
      "metadata": {
        "colab": {
          "base_uri": "https://localhost:8080/"
        },
        "id": "fxJ2a_4vK94O",
        "outputId": "6d42068e-79d9-4e04-bbe8-b07867fda49c"
      },
      "execution_count": 54,
      "outputs": [
        {
          "output_type": "stream",
          "name": "stdout",
          "text": [
            "tensor([1, 2, 3]) * tensor([1, 2, 3])\n",
            "Equals: tensor([1, 4, 9])\n"
          ]
        }
      ]
    },
    {
      "cell_type": "code",
      "source": [],
      "metadata": {
        "id": "yhMpG04ULxhF"
      },
      "execution_count": null,
      "outputs": []
    }
  ]
}