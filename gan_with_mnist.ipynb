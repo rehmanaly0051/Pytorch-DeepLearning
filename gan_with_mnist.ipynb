{
  "nbformat": 4,
  "nbformat_minor": 0,
  "metadata": {
    "colab": {
      "provenance": [],
      "toc_visible": true,
      "authorship_tag": "ABX9TyN4JvPVVFMxcMd5Yi5DwYH6",
      "include_colab_link": true
    },
    "kernelspec": {
      "name": "python3",
      "display_name": "Python 3"
    },
    "language_info": {
      "name": "python"
    }
  },
  "cells": [
    {
      "cell_type": "markdown",
      "metadata": {
        "id": "view-in-github",
        "colab_type": "text"
      },
      "source": [
        "<a href=\"https://colab.research.google.com/github/rehmanaly0051/Pytorch-DeepLearning/blob/main/gan_with_mnist.ipynb\" target=\"_parent\"><img src=\"https://colab.research.google.com/assets/colab-badge.svg\" alt=\"Open In Colab\"/></a>"
      ]
    },
    {
      "cell_type": "code",
      "execution_count": 3,
      "metadata": {
        "colab": {
          "base_uri": "https://localhost:8080/"
        },
        "id": "sfhySMriafNx",
        "outputId": "443f4af7-5db0-4680-a726-1f05a6a7266c"
      },
      "outputs": [
        {
          "output_type": "stream",
          "name": "stdout",
          "text": [
            "Mounted at /content/drive\n"
          ]
        }
      ],
      "source": [
        "from google.colab import drive\n",
        "drive.mount('/content/drive')"
      ]
    },
    {
      "cell_type": "markdown",
      "source": [
        "# Dataset Processing"
      ],
      "metadata": {
        "id": "xw7cCVtbbjzt"
      }
    },
    {
      "cell_type": "code",
      "source": [
        "import kagglehub\n",
        "\n",
        "# Download latest version\n",
        "path = kagglehub.dataset_download(\"hojjatk/mnist-dataset\")\n",
        "\n",
        "print(\"Path to dataset files:\", path)"
      ],
      "metadata": {
        "colab": {
          "base_uri": "https://localhost:8080/"
        },
        "id": "PSR4UEcUaof1",
        "outputId": "e3231865-87fa-4efe-fb83-b585db2196c7"
      },
      "execution_count": 5,
      "outputs": [
        {
          "output_type": "stream",
          "name": "stdout",
          "text": [
            "Path to dataset files: /kaggle/input/mnist-dataset\n"
          ]
        }
      ]
    },
    {
      "cell_type": "markdown",
      "source": [
        "## Importing Libraries"
      ],
      "metadata": {
        "id": "8yGqJdgHbfLo"
      }
    },
    {
      "cell_type": "code",
      "source": [
        "import os\n",
        "import sys\n",
        "import torch\n",
        "import torch.nn as nn\n",
        "import torch.optim as optim\n",
        "import torch.utils.data\n",
        "import torch.nn.parallel\n",
        "import torch.backends.cudnn as cudnn\n",
        "import torchvision.datasets as dset\n",
        "import torchvision.transforms as transforms\n",
        "import torchvision.utils as vutils\n",
        "import matplotlib.pyplot as plt"
      ],
      "metadata": {
        "id": "d6e-1N0ia60f"
      },
      "execution_count": 6,
      "outputs": []
    },
    {
      "cell_type": "markdown",
      "source": [
        "## Defining variables(constant variables)"
      ],
      "metadata": {
        "id": "nCmxftoAcNDG"
      }
    },
    {
      "cell_type": "code",
      "source": [
        "CUDA = True\n",
        "DATA_PATH = '/content/drive/MyDrive/data'\n",
        "BATCH_SIZE = 128\n",
        "IMG_CHANNEL = 1\n",
        "Z_DIM = 100\n",
        "G_HIDDEN = 64\n",
        "X_DIM = 64\n",
        "D_HIDDEN = 64\n",
        "EPOCH_NUM = 5\n",
        "seed = 1\n",
        "REAL_LABEL = 1\n",
        "FAKE_LABEL = 0\n",
        "lr = 2e-4 # 0.0002"
      ],
      "metadata": {
        "id": "Fy4Jx--DcMXz"
      },
      "execution_count": 11,
      "outputs": []
    },
    {
      "cell_type": "markdown",
      "source": [
        "## Device Diagnostic Mode"
      ],
      "metadata": {
        "id": "fhhFxUVHdUAB"
      }
    },
    {
      "cell_type": "code",
      "source": [
        "CUDA = CUDA and torch.cuda.is_available()\n",
        "print(torch.__version__)\n",
        "\n",
        "if CUDA:\n",
        "  print(torch.version.cuda)\n",
        "if CUDA:\n",
        "  torch.cuda.manual_seed(seed)\n",
        "device = torch.device('cuda:0' if CUDA else 'cpu')\n",
        "cudnn.benchmark = True"
      ],
      "metadata": {
        "colab": {
          "base_uri": "https://localhost:8080/"
        },
        "id": "oQJS3DpdcV2J",
        "outputId": "13d8592a-765b-4fbf-cc61-0d1518f53f60"
      },
      "execution_count": 13,
      "outputs": [
        {
          "output_type": "stream",
          "name": "stdout",
          "text": [
            "2.6.0+cu124\n"
          ]
        }
      ]
    },
    {
      "cell_type": "code",
      "source": [
        "dataset = dset(root = DATA_PATH, download = True,\n",
        "               transform = transforms.compose([\n",
        "               transforms.Resize(X_DIM),\n",
        "               transforms.ToTensor(),\n",
        "               transforms.Normalize((0.5),(0.5))\n",
        "               ]))"
      ],
      "metadata": {
        "id": "p1MJceAqeIOf"
      },
      "execution_count": null,
      "outputs": []
    },
    {
      "cell_type": "code",
      "source": [],
      "metadata": {
        "id": "xHOfmohteIK-"
      },
      "execution_count": null,
      "outputs": []
    }
  ]
}